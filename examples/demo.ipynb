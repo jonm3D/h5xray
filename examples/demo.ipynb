{
 "cells": [
  {
   "cell_type": "markdown",
   "id": "d5a9ba6f-5efd-4683-9fdd-75d5856eec24",
   "metadata": {
    "tags": [],
    "user_expressions": []
   },
   "source": [
    "# H5XRAY\n",
    "\n",
    "How to generate xray plots for HDF5 files to indicate cloud friendliness (required number of GET requests to fully read).\n",
    "\n",
    "__Jonathan Markel__  \n",
    "3D Geospatial Laboratory  \n",
    "The University of Texas at Austin  \n",
    "Last Updated: 11/06/2023\n",
    "\n",
    "#### [Twitter](https://twitter.com/jonm3d) | [GitHub](https://github.com/jonm3d) | [Website](http://j3d.space) | [GoogleScholar](https://scholar.google.com/citations?user=KwxwFgYAAAAJ&hl=en) | [LinkedIn](https://www.linkedin.com/in/j-markel/) "
   ]
  },
  {
   "cell_type": "code",
   "execution_count": 1,
   "id": "7101af15-b065-4bc3-a95f-d696538c3cd4",
   "metadata": {
    "tags": []
   },
   "outputs": [
    {
     "data": {
      "text/plain": [
       "'/home/jovyan/h5xray/examples'"
      ]
     },
     "execution_count": 1,
     "metadata": {},
     "output_type": "execute_result"
    }
   ],
   "source": [
    "# add parent directory to path for running example notebooks from local code\n",
    "\n",
    "import sys, os\n",
    "sys.path.append('..')\n",
    "os.getcwd()"
   ]
  },
  {
   "cell_type": "code",
   "execution_count": null,
   "id": "4c9fe4a0-eaf4-4fe5-8091-532391e0547c",
   "metadata": {
    "tags": []
   },
   "outputs": [],
   "source": [
    "from h5xray import h5xray"
   ]
  },
  {
   "cell_type": "code",
   "execution_count": null,
   "id": "4735bddd-d817-47a9-9293-0a24c91aaa19",
   "metadata": {
    "tags": []
   },
   "outputs": [],
   "source": [
    "input_file = \"data/atl03_4.h5\""
   ]
  },
  {
   "cell_type": "code",
   "execution_count": null,
   "id": "d2e1b8c2-ca59-466b-b49c-93522aebcf1d",
   "metadata": {
    "tags": []
   },
   "outputs": [],
   "source": [
    "# main function for notebook interaction\n",
    "help(h5xray.analyze)"
   ]
  },
  {
   "cell_type": "markdown",
   "id": "5deff016-af11-4620-a0d6-1c46c59c7669",
   "metadata": {
    "tags": [],
    "user_expressions": []
   },
   "source": [
    "## Default Usage\n",
    "At it's core, h5xray is meant to quickly visualize and report on the structure of and requests needed to read an HDF5 file. The barcode plot below shows blocks for each dataset within the H5 file. The width of a block represents the total size in bytes, and color indicates how many GET requests are needed to read in that data (blue is few). For the same size request / colorbar, more red = more requests = more $ to read from cloud storage."
   ]
  },
  {
   "cell_type": "code",
   "execution_count": null,
   "id": "bd145383-e157-44fa-8eeb-d7a41bce51a8",
   "metadata": {
    "tags": []
   },
   "outputs": [],
   "source": [
    "fig, _ = h5xray.analyze(input_file) # default usage"
   ]
  },
  {
   "cell_type": "markdown",
   "id": "d957a45c-710b-4abf-9354-e8b8b1574b3e",
   "metadata": {
    "tags": [],
    "user_expressions": []
   },
   "source": [
    "For more programmatic uses, the report can be silenced and the plot can be saved to disk."
   ]
  },
  {
   "cell_type": "code",
   "execution_count": null,
   "id": "63b08e39-ede5-4cb0-8f0b-624fb405adb8",
   "metadata": {},
   "outputs": [],
   "source": [
    "fig, _ = h5xray.analyze(input_file, plotting_options={'output_file':'img/barcode.png'}) # simple barcode"
   ]
  },
  {
   "cell_type": "markdown",
   "id": "231e9c01-739d-4ac8-987c-a2d91a1f1828",
   "metadata": {
    "tags": [],
    "user_expressions": []
   },
   "source": [
    "## Plot Details\n",
    "The debug plot option creates more detailed plots, adding the title, colorbar, and labels to identify large datasets."
   ]
  },
  {
   "cell_type": "code",
   "execution_count": null,
   "id": "90d8ba88-4668-45a6-8baf-4ed5c942cc7b",
   "metadata": {
    "tags": []
   },
   "outputs": [],
   "source": [
    "h5xray.analyze(input_file, plotting_options={'debug':True, 'output_file':'img/options_labels.png'})\n"
   ]
  },
  {
   "cell_type": "markdown",
   "id": "87d79d1f-6f18-48f4-a2be-e799fb660169",
   "metadata": {
    "tags": [],
    "user_expressions": []
   },
   "source": [
    "## Request Details\n",
    "It may be helpful to manually control the size of the GET requests when reading in data. Let's see how using larger GET requests changes the number needed to read in all the data, especially for larger datasets. Here, we see that the largest datasets needed fewer requests, and the barcode is lighter / bluer overall.\n"
   ]
  },
  {
   "cell_type": "code",
   "execution_count": null,
   "id": "98d4aeb2-1b19-4ec8-a1d7-2ad8b9a74cf9",
   "metadata": {},
   "outputs": [],
   "source": [
    "h5xray.analyze(input_file, request_byte_size=3*1024*1024, plotting_options={'debug':True})"
   ]
  },
  {
   "cell_type": "markdown",
   "id": "f2bcb004-8c17-4791-a6ef-984017b01a20",
   "metadata": {
    "user_expressions": []
   },
   "source": [
    "## Plot Customization\n",
    "Minor plot details will likely differ between HDF5 files, including the range of the colorbar, the colormap, the title, and the figure size. The font size of the dataset labels, and the threshold (in bytes) required to label a dataset can be changed for smaller/larger files."
   ]
  },
  {
   "cell_type": "code",
   "execution_count": null,
   "id": "eb3ed250-18a6-41d0-82d8-d772ca8a8291",
   "metadata": {
    "tags": []
   },
   "outputs": [],
   "source": [
    "import matplotlib.pyplot as plt # for specifying colormap"
   ]
  },
  {
   "cell_type": "code",
   "execution_count": null,
   "id": "5fff9f21-cd4d-4c3f-ad92-f09722d42f1a",
   "metadata": {
    "tags": []
   },
   "outputs": [],
   "source": [
    "# path to save image\n",
    "output_file = 'img/options_all.png'\n",
    "output_file"
   ]
  },
  {
   "cell_type": "code",
   "execution_count": null,
   "id": "7d238e33-4a48-47a4-beb6-ced8e4d732c1",
   "metadata": {
    "tags": []
   },
   "outputs": [],
   "source": [
    "# try changing these!\n",
    "plotting_options = {'debug':True, # whether to include the title, colormap, and labels\n",
    "                    'cmap': plt.cm.RdYlBu_r, \n",
    "                    'byte_threshold':10 * 1024**2, # datasets with more than this get labeled\n",
    "                    'font_size':9, # font size for dataset labels\n",
    "                    'figsize':(10, 3),\n",
    "                    'max_requests': 20, # specify colormap range\n",
    "                    'title':'DEMO',\n",
    "                    'output_file':output_file\n",
    "                   }\n",
    "\n",
    "h5xray.analyze(input_file, plotting_options=plotting_options)\n"
   ]
  },
  {
   "cell_type": "markdown",
   "id": "94b52217-8b00-4815-bf84-636c18f3ae56",
   "metadata": {
    "user_expressions": []
   },
   "source": [
    "## Return Report String\n",
    "Access the report string programmatically."
   ]
  },
  {
   "cell_type": "code",
   "execution_count": null,
   "id": "db2a46e5-7b01-4915-84bd-c26c34b3917d",
   "metadata": {
    "tags": []
   },
   "outputs": [],
   "source": [
    "_, report = h5xray.analyze(input_file, report_type='str');\n"
   ]
  },
  {
   "cell_type": "code",
   "execution_count": null,
   "id": "927c2470-0354-481a-a90e-4a2880f8ed7f",
   "metadata": {
    "tags": []
   },
   "outputs": [],
   "source": [
    "print(report)"
   ]
  },
  {
   "cell_type": "markdown",
   "id": "25818960-f2d8-4416-b61b-a1f32549b0a7",
   "metadata": {
    "tags": [],
    "user_expressions": []
   },
   "source": [
    "## Get in touch!\n",
    "\n",
    "**Jonathan Markel, PhD Student**<br>\n",
    "3D Geospatial Laboratory, UT Austin<br>\n",
    "[j3d.space](https://www.j3d.space) <br>\n",
    "[@jonm3d](https://www.twitter.com/jonm3d)"
   ]
  }
 ],
 "metadata": {
  "kernelspec": {
   "display_name": "Python 3 (ipykernel)",
   "language": "python",
   "name": "python3"
  },
  "language_info": {
   "codemirror_mode": {
    "name": "ipython",
    "version": 3
   },
   "file_extension": ".py",
   "mimetype": "text/x-python",
   "name": "python",
   "nbconvert_exporter": "python",
   "pygments_lexer": "ipython3",
   "version": "3.10.12"
  }
 },
 "nbformat": 4,
 "nbformat_minor": 5
}
