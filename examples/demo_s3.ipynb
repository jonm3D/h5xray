{
 "cells": [
  {
   "cell_type": "markdown",
   "id": "38b8b7bf-a41c-4312-9731-bb0e6a529d70",
   "metadata": {
    "user_expressions": []
   },
   "source": [
    "# H5XRAY\n",
    "\n",
    "Examples using h5xray visualizing HDF5 files stored in S3.\n",
    "\n",
    "(IN PROGRESS)\n",
    "\n",
    "__Jonathan Markel__  \n",
    "3D Geospatial Laboratory  \n",
    "The University of Texas at Austin  \n",
    "11/06/2023\n",
    "\n",
    "#### [Twitter](https://twitter.com/jonm3d) | [GitHub](https://github.com/jonm3d) | [Website](http://j3d.space) | [GoogleScholar](https://scholar.google.com/citations?user=KwxwFgYAAAAJ&hl=en) | [LinkedIn](https://www.linkedin.com/in/j-markel/) "
   ]
  },
  {
   "cell_type": "code",
   "execution_count": null,
   "id": "5372087a-0471-438d-b8b8-7e8fe29b5194",
   "metadata": {
    "tags": []
   },
   "outputs": [],
   "source": [
    "from h5xray import h5xray"
   ]
  },
  {
   "cell_type": "markdown",
   "id": "f36fb449-e1ab-4757-94df-2bfc4b4402f6",
   "metadata": {
    "user_expressions": []
   },
   "source": [
    "## ICESat-2 Data from S3\n",
    "Let's use some sample ICESat-2 H5 files already on S3 (several GB of geolocated photon data). We'll be combining several resources to locate some ICESat-2 data in the cloud\n",
    "- NASA OpenScapes [Data Access Using S3](https://nasa-openscapes.github.io/earthdata-cloud-cookbook/examples/NSIDC/ICESat2-CMR-OnPrem-vs-Cloud.html#data-access-using-aws-s3) Guide \n",
    "- [ICESat-2 Cloud Data Access](https://github.com/icesat2py/icepyx/blob/main/doc/source/example_notebooks/IS2_cloud_data_access.ipynb) with icepyx"
   ]
  },
  {
   "cell_type": "code",
   "execution_count": null,
   "id": "23cf1341-a3e1-4bc0-88bb-2e054f98a078",
   "metadata": {
    "tags": []
   },
   "outputs": [],
   "source": [
    "# Ensure we are working on AWS US-WEST-2\n",
    "# I'm using CryoCloud for notebook development...\n",
    "# If you're running locally, feel free to use a sample file from /data/atl03_X.h5\n",
    "h5xray.check_if_aws(verbose=True);"
   ]
  },
  {
   "cell_type": "markdown",
   "id": "3fb7891e-360a-4c42-be9d-cae6e083fae8",
   "metadata": {
    "user_expressions": []
   },
   "source": [
    "Commented code in the following cell was used to determine the S3 URL of a given ICESat-2 file of interest."
   ]
  },
  {
   "cell_type": "code",
   "execution_count": null,
   "id": "91083dce-8a06-4c87-b15a-98a4300c239d",
   "metadata": {
    "tags": []
   },
   "outputs": [],
   "source": [
    "import icepyx as ipx\n",
    "import h5py\n",
    "import s3fs"
   ]
  },
  {
   "cell_type": "code",
   "execution_count": null,
   "id": "24429c2c-b654-48ee-a84b-d9a7d303c0e0",
   "metadata": {
    "tags": []
   },
   "outputs": [],
   "source": [
    "# # Earthdata Credentials\n",
    "earthdata_uid = 'your_username'\n",
    "earthdata_pwd = 'your_password'\n",
    "\n",
    "# # Create an icepyx Query Object (to make use of its login capability)\n",
    "short_name = 'ATL03'\n",
    "spatial_extent = [-45, 58, -35, 75]  \n",
    "date_range = ['2019-11-30', '2019-11-30']  \n",
    "\n",
    "reg = ipx.Query(short_name, spatial_extent, date_range)\n",
    "reg.earthdata_login(earthdata_uid, earthdata_pwd, s3token=True)\n",
    "\n",
    "# # Set up S3 Filesystem\n",
    "s3 = s3fs.S3FileSystem(\n",
    "    key=reg._s3login_credentials['accessKeyId'],\n",
    "    secret=reg._s3login_credentials['secretAccessKey'],\n",
    "    token=reg._s3login_credentials['sessionToken']\n",
    ")\n",
    "\n",
    "# # Specify the S3 URL\n",
    "s3url = 's3://nsidc-cumulus-prod-protected/ATLAS/ATL03/006/2019/11/30/ATL03_20191130112041_09860505_006_01.h5'"
   ]
  },
  {
   "cell_type": "code",
   "execution_count": null,
   "id": "f755103a-7864-42eb-8ae7-869f9a589fa2",
   "metadata": {},
   "outputs": [],
   "source": [
    "with s3.open(s3url, 'rb') as s3f:\n",
    "    with h5py.File(s3f, 'r') as f:\n",
    "        print([key for key in f.keys()])\n"
   ]
  },
  {
   "cell_type": "markdown",
   "id": "6400ce37-9079-4488-a43c-481bcacf79f7",
   "metadata": {
    "tags": [],
    "user_expressions": []
   },
   "source": [
    "This may take a little while to run depending on the file size and your system..."
   ]
  },
  {
   "cell_type": "code",
   "execution_count": null,
   "id": "3e37b67e-579d-4ea7-8f7e-24703b092b25",
   "metadata": {
    "tags": []
   },
   "outputs": [],
   "source": [
    "h5xray.analyze(s3url, request_byte_size=4*1024**2, plotting_options=\n",
    "               {'debug':True, # whether to include the title, colormap, and labels\n",
    "                    'cmap': plt.cm.RdYlBu_r, \n",
    "                    'byte_threshold':10 * 1024**2, # datasets with more than this get labeled\n",
    "                    'font_size':9, # font size for dataset labels\n",
    "                    'figsize':(10, 3),\n",
    "                    'max_requests': 15, # specify colormap range\n",
    "                    'title':'S3 Access',\n",
    "                   }) # default usage"
   ]
  }
 ],
 "metadata": {
  "kernelspec": {
   "display_name": "Python 3 (ipykernel)",
   "language": "python",
   "name": "python3"
  },
  "language_info": {
   "codemirror_mode": {
    "name": "ipython",
    "version": 3
   },
   "file_extension": ".py",
   "mimetype": "text/x-python",
   "name": "python",
   "nbconvert_exporter": "python",
   "pygments_lexer": "ipython3",
   "version": "3.10.12"
  }
 },
 "nbformat": 4,
 "nbformat_minor": 5
}
