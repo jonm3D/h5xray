{
 "cells": [
  {
   "cell_type": "markdown",
   "id": "3cc92d7b-c6ba-44c7-bef8-90aabe6b257e",
   "metadata": {
    "user_expressions": []
   },
   "source": [
    "# Interactive Viewer for HDF File Structure\n",
    "\n",
    "For getting a sense of the overall layout of an HDF file and interactively inspecting dataset metadata and names.\n",
    "\n",
    "__Jonathan Markel__  \n",
    "3D Geospatial Laboratory  \n",
    "The University of Texas at Austin  \n",
    "Last Updated: 11/07/2023\n",
    "\n",
    "#### [Twitter](https://twitter.com/jonm3d) | [GitHub](https://github.com/jonm3d) | [Website](http://j3d.space) | [GoogleScholar](https://scholar.google.com/citations?user=KwxwFgYAAAAJ&hl=en) | [LinkedIn](https://www.linkedin.com/in/j-markel/) \n"
   ]
  },
  {
   "cell_type": "code",
   "execution_count": null,
   "id": "4c9fe4a0-eaf4-4fe5-8091-532391e0547c",
   "metadata": {
    "tags": []
   },
   "outputs": [],
   "source": [
    "from h5xray import h5xray, interactive"
   ]
  },
  {
   "cell_type": "markdown",
   "id": "ebf94e13-634a-4b5a-91b4-dc2307ac96c5",
   "metadata": {
    "user_expressions": []
   },
   "source": [
    "Let's start by visualizing the full HDF5 file structure as an interactive tree plot using Plotly and igraph. Data nodes are shown larger than group nodes, with size determined by total bytes. Hover over a node to see metadata extracted from the HDF5 file, like data description, size, and attributes."
   ]
  },
  {
   "cell_type": "code",
   "execution_count": null,
   "id": "aa2435eb-e527-4b4d-ad28-c8c16e1d3b0f",
   "metadata": {},
   "outputs": [],
   "source": [
    "input_file = \"data/atl03_icesat2.h5\"\n",
    "tree1 = interactive.H5Tree(input_file)\n",
    "ft = tree1.explore(figsize=(1000, 700))"
   ]
  },
  {
   "cell_type": "markdown",
   "id": "96aae8be-a311-48e5-ab63-fd01e9e44166",
   "metadata": {
    "tags": [],
    "user_expressions": []
   },
   "source": [
    "# Plot Customization\n",
    "Our data file might be quite large and complex. Let's take a closer look at a few specific groups in our data from the above plot."
   ]
  },
  {
   "cell_type": "code",
   "execution_count": null,
   "id": "99799252-b66a-4521-98c8-3e54e3431893",
   "metadata": {
    "tags": []
   },
   "outputs": [],
   "source": [
    "tree2 = interactive.H5Tree(input_file, \n",
    "                           group_path='/ancillary_data/calibrations/first_photon_bias')\n",
    "\n",
    "ft = tree2.explore()"
   ]
  }
 ],
 "metadata": {
  "kernelspec": {
   "display_name": "Python 3 (ipykernel)",
   "language": "python",
   "name": "python3"
  },
  "language_info": {
   "codemirror_mode": {
    "name": "ipython",
    "version": 3
   },
   "file_extension": ".py",
   "mimetype": "text/x-python",
   "name": "python",
   "nbconvert_exporter": "python",
   "pygments_lexer": "ipython3",
   "version": "3.10.0"
  }
 },
 "nbformat": 4,
 "nbformat_minor": 5
}
